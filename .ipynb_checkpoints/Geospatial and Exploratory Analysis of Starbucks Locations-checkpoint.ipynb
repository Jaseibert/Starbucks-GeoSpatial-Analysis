{
 "cells": [
  {
   "cell_type": "markdown",
   "metadata": {
    "collapsed": true
   },
   "source": [
    "![alt text](https://www.freepnglogos.com/uploads/starbucks-logo-png-1.png)\n",
    "\n",
    "# Geospatial and Exploratory Analysis of Starbucks Locations\n",
    "In this notebook I explore the the Starbucks Store Location dataset, and use the python framework Folium to define their individual locations on a coordinate map.\n",
    "\n",
    "\n",
    "\n",
    "  \n",
    "# Brief Starbucks History\n",
    "\n",
    "Initially founded by Jerry Baldwin, Zev Siegl, and Gordon Bowker in 1971, Starbucks opened its first store at 1912 Pike's Place in Seattle, Washington. The future CEO, Howard Schultz joined with the young company in 1982 as the Director of Retail Operations & Marketing. In 1983, Schultz took his revolutionary trip across Italy, where fell in love with the concept of a \"coffeehouse\". Returning to the United States at the beginning of 1984, he explains the coffeehouse concept to the owner's, and convinces them to give it a try. The first Cafe Latte was sold later that year. After the coffeehouse expiriment's success, Shultz stepped away from Starbuck's and founded II Giornale ,\"The Jounal\". \n",
    "\n",
    "From 1985-1987, Il Giornale grew substantially, and at the end of 1987 acquired the Starbuck's shop on Pike's Place. The acquisition then formed, what we know today as the Starbuck's Corporation. Before the end of 1987, there were 17 Starbucks Coffeehouses in cities such as Chicago, Vancouver, and Seattle. In 30 years from 1988-2018, Starbuck's went from only 33 stores to 25,,600 stores worldwide. "
   ]
  },
  {
   "cell_type": "code",
   "execution_count": 3,
   "metadata": {},
   "outputs": [],
   "source": [
    "import numpy as np # linear algebra\n",
    "import pandas as pd # data processing, CSV file I/O (e.g. pd.read_csv)\n",
    "import folium \n",
    "from folium import plugins\n",
    "import matplotlib.pyplot as plt\n",
    "%matplotlib inline"
   ]
  },
  {
   "cell_type": "markdown",
   "metadata": {},
   "source": [
    "## Exploring the DataFrame"
   ]
  },
  {
   "cell_type": "code",
   "execution_count": 4,
   "metadata": {
    "collapsed": true
   },
   "outputs": [],
   "source": [
    "#Read in the Store Directory file \n",
    "SB_Df = pd.read_csv('/Users/Jaseibert/dev/Starbucks_Stores/directory.csv')\n",
    "\n",
    "#Transform the CSV file into a DataFrame\n",
    "SB_Df= pd.DataFrame(SB_Df)"
   ]
  },
  {
   "cell_type": "markdown",
   "metadata": {},
   "source": [
    "### A. What does the Dataframe look like?"
   ]
  },
  {
   "cell_type": "code",
   "execution_count": 6,
   "metadata": {},
   "outputs": [
    {
     "data": {
      "text/html": [
       "<div>\n",
       "<style>\n",
       "    .dataframe thead tr:only-child th {\n",
       "        text-align: right;\n",
       "    }\n",
       "\n",
       "    .dataframe thead th {\n",
       "        text-align: left;\n",
       "    }\n",
       "\n",
       "    .dataframe tbody tr th {\n",
       "        vertical-align: top;\n",
       "    }\n",
       "</style>\n",
       "<table border=\"1\" class=\"dataframe\">\n",
       "  <thead>\n",
       "    <tr style=\"text-align: right;\">\n",
       "      <th></th>\n",
       "      <th>Brand</th>\n",
       "      <th>Store Number</th>\n",
       "      <th>Store Name</th>\n",
       "      <th>Ownership Type</th>\n",
       "      <th>Street Address</th>\n",
       "      <th>City</th>\n",
       "      <th>State/Province</th>\n",
       "      <th>Country</th>\n",
       "      <th>Postcode</th>\n",
       "      <th>Phone Number</th>\n",
       "      <th>Timezone</th>\n",
       "      <th>Y</th>\n",
       "      <th>X</th>\n",
       "    </tr>\n",
       "  </thead>\n",
       "  <tbody>\n",
       "    <tr>\n",
       "      <th>0</th>\n",
       "      <td>Starbucks</td>\n",
       "      <td>47370-257954</td>\n",
       "      <td>Meritxell, 96</td>\n",
       "      <td>Licensed</td>\n",
       "      <td>Av. Meritxell, 96</td>\n",
       "      <td>Andorra la Vella</td>\n",
       "      <td>7</td>\n",
       "      <td>AD</td>\n",
       "      <td>AD500</td>\n",
       "      <td>376818720</td>\n",
       "      <td>GMT+1:00 Europe/Andorra</td>\n",
       "      <td>1.53</td>\n",
       "      <td>42.51</td>\n",
       "    </tr>\n",
       "    <tr>\n",
       "      <th>1</th>\n",
       "      <td>Starbucks</td>\n",
       "      <td>22331-212325</td>\n",
       "      <td>Ajman Drive Thru</td>\n",
       "      <td>Licensed</td>\n",
       "      <td>1 Street 69, Al Jarf</td>\n",
       "      <td>Ajman</td>\n",
       "      <td>AJ</td>\n",
       "      <td>AE</td>\n",
       "      <td>NaN</td>\n",
       "      <td>NaN</td>\n",
       "      <td>GMT+04:00 Asia/Dubai</td>\n",
       "      <td>55.47</td>\n",
       "      <td>25.42</td>\n",
       "    </tr>\n",
       "    <tr>\n",
       "      <th>2</th>\n",
       "      <td>Starbucks</td>\n",
       "      <td>47089-256771</td>\n",
       "      <td>Dana Mall</td>\n",
       "      <td>Licensed</td>\n",
       "      <td>Sheikh Khalifa Bin Zayed St.</td>\n",
       "      <td>Ajman</td>\n",
       "      <td>AJ</td>\n",
       "      <td>AE</td>\n",
       "      <td>NaN</td>\n",
       "      <td>NaN</td>\n",
       "      <td>GMT+04:00 Asia/Dubai</td>\n",
       "      <td>55.47</td>\n",
       "      <td>25.39</td>\n",
       "    </tr>\n",
       "    <tr>\n",
       "      <th>3</th>\n",
       "      <td>Starbucks</td>\n",
       "      <td>22126-218024</td>\n",
       "      <td>Twofour 54</td>\n",
       "      <td>Licensed</td>\n",
       "      <td>Al Salam Street</td>\n",
       "      <td>Abu Dhabi</td>\n",
       "      <td>AZ</td>\n",
       "      <td>AE</td>\n",
       "      <td>NaN</td>\n",
       "      <td>NaN</td>\n",
       "      <td>GMT+04:00 Asia/Dubai</td>\n",
       "      <td>54.38</td>\n",
       "      <td>24.48</td>\n",
       "    </tr>\n",
       "    <tr>\n",
       "      <th>4</th>\n",
       "      <td>Starbucks</td>\n",
       "      <td>17127-178586</td>\n",
       "      <td>Al Ain Tower</td>\n",
       "      <td>Licensed</td>\n",
       "      <td>Khaldiya Area, Abu Dhabi Island</td>\n",
       "      <td>Abu Dhabi</td>\n",
       "      <td>AZ</td>\n",
       "      <td>AE</td>\n",
       "      <td>NaN</td>\n",
       "      <td>NaN</td>\n",
       "      <td>GMT+04:00 Asia/Dubai</td>\n",
       "      <td>54.54</td>\n",
       "      <td>24.51</td>\n",
       "    </tr>\n",
       "  </tbody>\n",
       "</table>\n",
       "</div>"
      ],
      "text/plain": [
       "       Brand  Store Number        Store Name Ownership Type  \\\n",
       "0  Starbucks  47370-257954     Meritxell, 96       Licensed   \n",
       "1  Starbucks  22331-212325  Ajman Drive Thru       Licensed   \n",
       "2  Starbucks  47089-256771         Dana Mall       Licensed   \n",
       "3  Starbucks  22126-218024        Twofour 54       Licensed   \n",
       "4  Starbucks  17127-178586      Al Ain Tower       Licensed   \n",
       "\n",
       "                    Street Address              City State/Province Country  \\\n",
       "0                Av. Meritxell, 96  Andorra la Vella              7      AD   \n",
       "1             1 Street 69, Al Jarf             Ajman             AJ      AE   \n",
       "2     Sheikh Khalifa Bin Zayed St.             Ajman             AJ      AE   \n",
       "3                  Al Salam Street         Abu Dhabi             AZ      AE   \n",
       "4  Khaldiya Area, Abu Dhabi Island         Abu Dhabi             AZ      AE   \n",
       "\n",
       "  Postcode Phone Number                 Timezone      Y      X  \n",
       "0    AD500    376818720  GMT+1:00 Europe/Andorra   1.53  42.51  \n",
       "1      NaN          NaN     GMT+04:00 Asia/Dubai  55.47  25.42  \n",
       "2      NaN          NaN     GMT+04:00 Asia/Dubai  55.47  25.39  \n",
       "3      NaN          NaN     GMT+04:00 Asia/Dubai  54.38  24.48  \n",
       "4      NaN          NaN     GMT+04:00 Asia/Dubai  54.54  24.51  "
      ]
     },
     "execution_count": 6,
     "metadata": {},
     "output_type": "execute_result"
    }
   ],
   "source": [
    "SB_Df.head(5)"
   ]
  },
  {
   "cell_type": "markdown",
   "metadata": {},
   "source": [
    "### B. What is the Percentage of Null values?"
   ]
  },
  {
   "cell_type": "code",
   "execution_count": 7,
   "metadata": {},
   "outputs": [
    {
     "data": {
      "text/plain": [
       "Brand             100.000000\n",
       "Store Number      100.000000\n",
       "Store Name        100.000000\n",
       "Ownership Type    100.000000\n",
       "Street Address     99.992188\n",
       "City               99.941406\n",
       "State/Province    100.000000\n",
       "Country           100.000000\n",
       "Postcode           94.054688\n",
       "Phone Number       73.199219\n",
       "Timezone          100.000000\n",
       "Y                  99.996094\n",
       "X                  99.996094\n",
       "dtype: float64"
      ]
     },
     "execution_count": 7,
     "metadata": {},
     "output_type": "execute_result"
    }
   ],
   "source": [
    "SB_Df.notnull().sum() * 100/SB_Df.shape[0]"
   ]
  },
  {
   "cell_type": "markdown",
   "metadata": {},
   "source": [
    "### C. What are the Top 20 Countries with the most Starbucks?"
   ]
  },
  {
   "cell_type": "code",
   "execution_count": 8,
   "metadata": {},
   "outputs": [
    {
     "data": {
      "text/plain": [
       "US    13608\n",
       "CN     2734\n",
       "CA     1468\n",
       "JP     1237\n",
       "KR      993\n",
       "GB      901\n",
       "MX      579\n",
       "TW      394\n",
       "TR      326\n",
       "PH      298\n",
       "TH      289\n",
       "ID      268\n",
       "MY      234\n",
       "DE      160\n",
       "AE      144\n",
       "FR      132\n",
       "SG      130\n",
       "RU      109\n",
       "AR      108\n",
       "KW      106\n",
       "Name: Country, dtype: int64"
      ]
     },
     "execution_count": 8,
     "metadata": {},
     "output_type": "execute_result"
    }
   ],
   "source": [
    "SB_Df.Country.value_counts().head(20) "
   ]
  },
  {
   "cell_type": "markdown",
   "metadata": {},
   "source": [
    "### D. What are the Top 20 Cities in the World with the most Starbucks?\n",
    "** For English Speakers **\n",
    "* 上海市 = Shanghai, China\n",
    "* 北京市  = Beijing, China\n",
    "* 서울  = Seoul, Korea"
   ]
  },
  {
   "cell_type": "code",
   "execution_count": 9,
   "metadata": {},
   "outputs": [
    {
     "data": {
      "text/plain": [
       "上海市            542\n",
       "Seoul          243\n",
       "北京市            234\n",
       "New York       232\n",
       "London         216\n",
       "Toronto        192\n",
       "Mexico City    180\n",
       "Chicago        180\n",
       "Seattle        156\n",
       "Las Vegas      156\n",
       "Houston        154\n",
       "Istanbul       144\n",
       "Vancouver      141\n",
       "서울             136\n",
       "San Diego      135\n",
       "Calgary        130\n",
       "Los Angeles    127\n",
       "Singapore      127\n",
       "Taipei City    126\n",
       "Jakarta        123\n",
       "Name: City, dtype: int64"
      ]
     },
     "execution_count": 9,
     "metadata": {},
     "output_type": "execute_result"
    }
   ],
   "source": [
    "SB_Df.City.value_counts().head(20)"
   ]
  },
  {
   "cell_type": "markdown",
   "metadata": {},
   "source": [
    "### E. What Type of Starbucks is it?\n",
    "* ** Company Owned - are Starbucks which are ran by Starbucks Corporate**\n",
    "* ** Licensed Stores - are independently ran, but abide by Starbucks Practice's (think Target, Kroger, Barne's & Noble, etc.) **\n",
    "* ** Joint Venture Stores - are typically found outside North America and are Starbucks combined with another Company (think a Starbucks inside of a McDonalds)**\n",
    "* **Francise Stores - are identical to Company owned Starbucks except they GM is the owner of the store and has stake in its success/failure**"
   ]
  },
  {
   "cell_type": "code",
   "execution_count": 10,
   "metadata": {},
   "outputs": [
    {
     "data": {
      "text/plain": [
       "Company Owned    11932\n",
       "Licensed          9375\n",
       "Joint Venture     3976\n",
       "Franchise          317\n",
       "Name: Ownership Type, dtype: int64"
      ]
     },
     "execution_count": 10,
     "metadata": {},
     "output_type": "execute_result"
    }
   ],
   "source": [
    "SB_Df[\"Ownership Type\"].value_counts().head(4)"
   ]
  },
  {
   "cell_type": "markdown",
   "metadata": {},
   "source": [
    "## Lets graph those!"
   ]
  },
  {
   "cell_type": "code",
   "execution_count": 12,
   "metadata": {},
   "outputs": [
    {
     "data": {
      "text/plain": [
       "<matplotlib.axes._subplots.AxesSubplot at 0x113245be0>"
      ]
     },
     "execution_count": 12,
     "metadata": {},
     "output_type": "execute_result"
    },
    {
     "data": {
      "image/png": "[encoded data removed]",
      "text/plain": [
       "<matplotlib.figure.Figure at 0x113245c18>"
      ]
     },
     "metadata": {},
     "output_type": "display_data"
    }
   ],
   "source": [
    "figure = plt.figure(figsize=(22,6))\n",
    "axes = figure.add_subplot(111)\n",
    "axes.set(title = \"The Top 20 Countries with the most Starbucks\")\n",
    "SB_Df.Country.value_counts().head(20).plot(kind=\"bar\", color = \"green\")"
   ]
  },
  {
   "cell_type": "code",
   "execution_count": 14,
   "metadata": {},
   "outputs": [
    {
     "data": {
      "text/plain": [
       "<matplotlib.axes._subplots.AxesSubplot at 0x105b893c8>"
      ]
     },
     "execution_count": 14,
     "metadata": {},
     "output_type": "execute_result"
    },
    {
     "data": {
      "image/png": "[encoded data removed]",
      "text/plain": [
       "<matplotlib.figure.Figure at 0x105b894a8>"
      ]
     },
     "metadata": {},
     "output_type": "display_data"
    }
   ],
   "source": [
    "figure = plt.figure(figsize=(15,8))\n",
    "axes = figure.add_subplot(111)\n",
    "axes.set(title = \"The Top 20 Cities in the World with the most Starbucks\")\n",
    "SB_Df.City.value_counts().head(20).plot(kind=\"bar\", color = \"green\")"
   ]
  },
  {
   "cell_type": "code",
   "execution_count": 15,
   "metadata": {},
   "outputs": [
    {
     "data": {
      "image/png": "[encoded data removed]",
      "text/plain": [
       "<matplotlib.figure.Figure at 0x1108f6780>"
      ]
     },
     "metadata": {},
     "output_type": "display_data"
    }
   ],
   "source": [
    "figure = plt.figure(figsize=(10,10))\n",
    "axes = figure.add_subplot(111)\n",
    "axes.set(title = \"What type of Store is it?\")\n",
    "SB_Df['Ownership Type'].value_counts().plot(kind=\"pie\", colors = [\"green\", \"blue\", \"red\", \"yellow\"])\n",
    "plt.show()"
   ]
  },
  {
   "cell_type": "markdown",
   "metadata": {},
   "source": [
    "## Plot the Stores on a Map using Folium"
   ]
  },
  {
   "cell_type": "markdown",
   "metadata": {},
   "source": [
    "### Step 1: Find how many null Latitude & Longitude Values the are "
   ]
  },
  {
   "cell_type": "code",
   "execution_count": 16,
   "metadata": {},
   "outputs": [
    {
     "data": {
      "text/plain": [
       "Brand                0\n",
       "Store Number         0\n",
       "Store Name           0\n",
       "Ownership Type       0\n",
       "Street Address       2\n",
       "City                15\n",
       "State/Province       0\n",
       "Country              0\n",
       "Postcode          1522\n",
       "Phone Number      6861\n",
       "Timezone             0\n",
       "Y                    1\n",
       "X                    1\n",
       "dtype: int64"
      ]
     },
     "execution_count": 16,
     "metadata": {},
     "output_type": "execute_result"
    }
   ],
   "source": [
    "#Find all the NaN Values in the DataFrame\n",
    "SB_Df.isnull().sum()"
   ]
  },
  {
   "cell_type": "markdown",
   "metadata": {},
   "source": [
    "### Step 2: Define Coordinate Pairs & Eliminate Null Values"
   ]
  },
  {
   "cell_type": "code",
   "execution_count": 19,
   "metadata": {},
   "outputs": [
    {
     "name": "stderr",
     "output_type": "stream",
     "text": [
      "/Library/Frameworks/Python.framework/Versions/3.6/lib/python3.6/site-packages/pandas/core/frame.py:2754: SettingWithCopyWarning: \n",
      "A value is trying to be set on a copy of a slice from a DataFrame\n",
      "\n",
      "See the caveats in the documentation: http://pandas.pydata.org/pandas-docs/stable/indexing.html#indexing-view-versus-copy\n",
      "  downcast=downcast, **kwargs)\n"
     ]
    },
    {
     "data": {
      "text/plain": [
       "[-34.6, -58.4]"
      ]
     },
     "execution_count": 19,
     "metadata": {},
     "output_type": "execute_result"
    }
   ],
   "source": [
    "#Combine the Lat & Long values into a location var\n",
    "location = SB_Df[['X','Y']]\n",
    "\n",
    "#Transform the NaN values into (0,0) \n",
    "location.fillna(0, inplace=True)\n",
    "\n",
    "#Transform the location values into a list\n",
    "locationList = location.values.tolist()\n",
    "len(locationList)\n",
    "\n",
    "#check random var\n",
    "locationList[223]"
   ]
  },
  {
   "cell_type": "markdown",
   "metadata": {},
   "source": [
    "### Step 3: Define Map Parameters & iterate over coordinate pairs to plot"
   ]
  },
  {
   "cell_type": "code",
   "execution_count": null,
   "metadata": {
    "collapsed": true
   },
   "outputs": [],
   "source": [
    "#Define initial map parameters\n",
    "Evansville_Coordinates = (37.987734, -87.534703)\n",
    "\n",
    "#Create empty map zoomed in on Evansville\n",
    "map = folium.Map(location= Evansville_Coordinates, tiles='CartoDB dark_matter', zoom_start=11)\n",
    "marker_cluster = folium.plugins.MarkerCluster().add_to(map)\n",
    "\n",
    "#Create a for loop & itterate through each store location \n",
    "for loc in range(0, len(locationList)):\n",
    "    folium.Marker(locationList[loc], popup=SB_Df['Store Number'][loc], icon=folium.Icon(color='green', icon_color='white', icon='info-sign')).add_to(marker_cluster)\n",
    "map"
   ]
  }
 ],
 "metadata": {
  "kernelspec": {
   "display_name": "Python 3",
   "language": "python",
   "name": "python3"
  },
  "language_info": {
   "codemirror_mode": {
    "name": "ipython",
    "version": 3
   },
   "file_extension": ".py",
   "mimetype": "text/x-python",
   "name": "python",
   "nbconvert_exporter": "python",
   "pygments_lexer": "ipython3",
   "version": "3.6.2"
  }
 },
 "nbformat": 4,
 "nbformat_minor": 2
}
